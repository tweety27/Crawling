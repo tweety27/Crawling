{
 "cells": [
  {
   "cell_type": "code",
   "execution_count": 82,
   "id": "05245870-7635-4e80-aef8-fdbb334b46da",
   "metadata": {},
   "outputs": [],
   "source": [
    "from selenium import webdriver\n",
    "from selenium.webdriver.common.by import By\n",
    "from selenium.webdriver.common.keys import Keys\n",
    "from bs4 import BeautifulSoup as bs\n",
    "import pyperclip\n",
    "import time\n",
    "import pandas as pd"
   ]
  },
  {
   "cell_type": "code",
   "execution_count": 2,
   "id": "97bde3ba-95fc-4759-be35-2a40cc1c43b0",
   "metadata": {},
   "outputs": [],
   "source": [
    "driver = webdriver.Chrome()\n",
    "driver.get(\"https://m.cafe.daum.net/beautiful5060/NhGV?boardType=\")"
   ]
  },
  {
   "cell_type": "code",
   "execution_count": 75,
   "id": "8fd7b730-80ac-4b06-9e87-1ff050d6756e",
   "metadata": {},
   "outputs": [],
   "source": [
    "url_list = []"
   ]
  },
  {
   "cell_type": "code",
   "execution_count": 64,
   "id": "e06d4bb2-972c-4a6d-9fdc-c0293d922d3a",
   "metadata": {},
   "outputs": [],
   "source": [
    "for _ in range(10):\n",
    "    try:\n",
    "        for page in range(3, 7): # 1~5 페이지 넘기기\n",
    "            soup = bs(driver.page_source, 'lxml')\n",
    "\n",
    "            # 게시글 url 링크 가져오기\n",
    "            urls = soup.select('a', class_='link_cafe make-list-uri.#article_list')\n",
    "\n",
    "            for k in urls:\n",
    "                url_list.append('https://m.cafe.daum.net/' + k['href'])\n",
    "\n",
    "            # url 링크 정리\n",
    "            filtered_urls = [url for url in url_list if url.startswith('https://m.cafe.daum.net//beautiful5060/NhGV/') and 'comments' not in url]\n",
    "            filtered_urls = filtered_urls[6:] \n",
    "\n",
    "            # 맨 밑으로 스크롤\n",
    "            time.sleep(0.5)\n",
    "            body = driver.find_element(By.CSS_SELECTOR, \"body\")\n",
    "\n",
    "            time.sleep(0.5)\n",
    "            body.send_keys(Keys.ENTER)\n",
    "\n",
    "            # 페이지 넘기기\n",
    "            time.sleep(0.5)\n",
    "            driver.find_element(By.CSS_SELECTOR, '#pagingNav > span:nth-child({}) > a'.format(page)).click()\n",
    "\n",
    "            time.sleep(0.5)\n",
    "            soup = bs(driver.page_source, 'lxml')\n",
    "\n",
    "        # > 버튼 클릭\n",
    "        time.sleep(1)\n",
    "        driver.find_element(By.XPATH, '//*[@id=\"mArticle\"]/div[2]/a[2]').click()\n",
    "\n",
    "    except:\n",
    "        break"
   ]
  },
  {
   "cell_type": "code",
   "execution_count": 78,
   "id": "6b79a17d-20c8-4061-b99d-78526c3ef042",
   "metadata": {},
   "outputs": [],
   "source": [
    "# 겹치는 url 제거\n",
    "unique_urls = list(set(filtered_urls))"
   ]
  },
  {
   "cell_type": "code",
   "execution_count": 72,
   "id": "6c3a6ee7-0c02-451f-97ea-fc50cba77d19",
   "metadata": {},
   "outputs": [],
   "source": [
    "title_list = []\n",
    "context_list = []"
   ]
  },
  {
   "cell_type": "code",
   "execution_count": 73,
   "id": "2d6dd267-4014-480c-b70f-55e396c4fabe",
   "metadata": {},
   "outputs": [],
   "source": [
    "# url 돌면서 제목, 내용 가져오기\n",
    "for url in unique_urls:\n",
    "    driver.get(url)\n",
    "    time.sleep(0.5)\n",
    "\n",
    "    soup = bs(driver.page_source, 'lxml')\n",
    "\n",
    "    # 제목\n",
    "    title = driver.find_element(By.CLASS_NAME, 'article_title').text\n",
    "    title_list.append(title)\n",
    "\n",
    "    # 내용\n",
    "    context = driver.find_element(By.CLASS_NAME, 'tx-content-container').text\n",
    "    context_list.append(context)"
   ]
  },
  {
   "cell_type": "code",
   "execution_count": 80,
   "id": "f9a69f9d-52b2-4e5b-9152-e798779d1d47",
   "metadata": {},
   "outputs": [],
   "source": [
    "data = {'제목' : title_list, \"내용\" : context_list}"
   ]
  },
  {
   "cell_type": "code",
   "execution_count": 83,
   "id": "251b1d22-0e5c-4b71-ba02-d0437b9ab1a7",
   "metadata": {},
   "outputs": [],
   "source": [
    "# 데이터프레임 생성\n",
    "df = pd.DataFrame(data)"
   ]
  },
  {
   "cell_type": "code",
   "execution_count": 86,
   "id": "fb270b50-a8d7-423e-aeaf-96a075915b27",
   "metadata": {},
   "outputs": [],
   "source": [
    "# csv 파일로 저장\n",
    "df.to_csv('아름다운 5060_여성 휴게실.csv', encoding='utf-8-sig', index=False)"
   ]
  }
 ],
 "metadata": {
  "kernelspec": {
   "display_name": "Python 3 (ipykernel)",
   "language": "python",
   "name": "python3"
  },
  "language_info": {
   "codemirror_mode": {
    "name": "ipython",
    "version": 3
   },
   "file_extension": ".py",
   "mimetype": "text/x-python",
   "name": "python",
   "nbconvert_exporter": "python",
   "pygments_lexer": "ipython3",
   "version": "3.11.7"
  }
 },
 "nbformat": 4,
 "nbformat_minor": 5
}
